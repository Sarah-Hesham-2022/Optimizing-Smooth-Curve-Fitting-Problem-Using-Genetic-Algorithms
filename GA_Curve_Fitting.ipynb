{
  "cells": [
    {
      "cell_type": "code",
      "execution_count": 1,
      "metadata": {
        "id": "5s1qQAh-zaEn"
      },
      "outputs": [],
      "source": [
        "#This returns a number N in the inclusive range [a,b], meaning a <= N <= b, where the endpoints are included in the range.\n",
        "#print(random.random())\n",
        "#Random floating point values can be generated using the random() function. Values will be generated in the range between 0 and 1, specifically in the interval [0,1).\n",
        "#print(random.randint(0,9))\n",
        "#The random.uniform() function returns a random floating-point number between a given range in Python. \n",
        "#print(random.uniform(0.1,0.2))\n",
        "\n",
        "import random\n",
        "\n",
        "#To write console Output in a text file and save it in a given path\n",
        "import sys\n",
        "import math\n",
        "#Probability of crossover and mutation\n",
        "PC = 0.7\n",
        "PM = 0.1\n",
        "minRange = -10\n",
        "maxRange =  10\n",
        "dependencyFactor = 2"
      ]
    },
    {
      "cell_type": "code",
      "execution_count": 2,
      "metadata": {
        "id": "jpQsrwGYzdpO"
      },
      "outputs": [],
      "source": [
        "#Step 1: Initilaize Population\n",
        "#We can represent a solution (the items selected) as a chromosome containing N bits where N is number of degree of curve \n",
        "#plus one each bit (i) corresponds to a random float point value (i) in range given [-10,10]\n",
        "#These functions return arrays containing arrays of representing population and  individuals\n",
        "#Since we want to find the best coefficients that minimize the error, our chromosome will\n",
        "#be represented in floating point and its size will be D+1 where each bit represents a \n",
        "#coefficient in the equation\n",
        "def InitializeIndividual(size):\n",
        "    \n",
        "    individual=[]\n",
        "\n",
        "    for i in range(size):\n",
        "        individual.append(round(random.uniform(minRange,maxRange),1))\n",
        "\n",
        "    return individual\n",
        "\n",
        "def InitializePopulation(populationSize,individualSize):\n",
        "\n",
        "    population=[]\n",
        "\n",
        "    for i in range(populationSize):\n",
        "        population.append(InitializeIndividual(individualSize))\n",
        "\n",
        "    return population\n"
      ]
    },
    {
      "cell_type": "code",
      "execution_count": 3,
      "metadata": {
        "id": "DKM6Q9aPzoe_"
      },
      "outputs": [],
      "source": [
        "#Step 2: Let’s evaluate the fitness of each chromosome using the objective function \n",
        "#Then, we can use the mean square error as our fitness function\n",
        "#Let’s evaluate the fitness of each chromosome. We will need to use the mean \n",
        "#square error (1/N ∑N (ycalc. – yactual)^2) between every given point and the polynomial.\n",
        "#This function returns an array of fitness values corresponding each population in array returned by InitializePopulation function\n",
        "def IndividualFitness(individual,points):\n",
        "\n",
        "    sumFitness = 0.0\n",
        "    total = 0.0\n",
        "    exponent = 0\n",
        "\n",
        "    for indexPoints in range(len(points)):\n",
        "        for i in range(len(individual)): # ((1.95 + 8.16 * 1 + -2 * 12) – 5)^2 = 9.67\n",
        "            sumFitness =  sumFitness + individual[i] * (points[indexPoints][0] ** exponent)\n",
        "            exponent = exponent + 1\n",
        "\n",
        "        sumFitness = (sumFitness - points[indexPoints][1])**2 \n",
        "        total = total + sumFitness\n",
        "        sumFitness = 0\n",
        "        exponent =0 \n",
        "    \n",
        "    #Note: We used (len(points)/error) as our fitness because when we perform selection, we usually select the “fitter” chromosomes and here it represents an error and then its inverse would be the good thing to maximize\n",
        "    if(total == 0 ):\n",
        "      return 1\n",
        "\n",
        "    return (float(len(points))/math.sqrt(total))\n",
        "\n",
        "def PopulationFitness(population,points):\n",
        "\n",
        "    fitnessValues = []\n",
        "\n",
        "    for i in (population):\n",
        "        fitnessValues.append(IndividualFitness(i,points))\n",
        "\n",
        "    return fitnessValues\n"
      ]
    },
    {
      "cell_type": "code",
      "execution_count": 4,
      "metadata": {
        "id": "nKFpEGb4z9U4"
      },
      "outputs": [],
      "source": [
        "#Here we have no faesibilty violation possible\n",
        "#Step 3: Let’s select the parents! First, we apply tournament selection\n",
        "\n",
        "def TournamentSelection(population,fitnessValues):\n",
        "\n",
        "    matingPool = population\n",
        "    \n",
        "    while(len(matingPool)!=1):\n",
        "\n",
        "        temp = []\n",
        "        for i in range(len(matingPool)-1):\n",
        "\n",
        "           index1 = random.randint(0,len(matingPool)-1)\n",
        "           index2 = random.randint(0,len(matingPool)-1)\n",
        "\n",
        "           while(index1 == index2):\n",
        "              index1 = random.randint(0,len(matingPool)-1)\n",
        "              index2 = random.randint(0,len(matingPool)-1)\n",
        "\n",
        "           fitness1 = fitnessValues[index1]\n",
        "           fitness2 = fitnessValues[index2]\n",
        "\n",
        "           if(fitness1 > fitness2):\n",
        "             temp.append(matingPool[index1])\n",
        "           else:\n",
        "             temp.append(matingPool[index2])\n",
        "\n",
        "        matingPool = temp\n",
        "\n",
        "    return matingPool[0]"
      ]
    },
    {
      "cell_type": "code",
      "execution_count": 5,
      "metadata": {
        "id": "9lh9rKkEz-q3"
      },
      "outputs": [],
      "source": [
        "#Step 4: Let’s perform crossover between C1 and C2:\n",
        "#First, generate a random integer (Xc1) between 1 and len(C)-1 to be the crossover point and (Xc2) .\n",
        "#Second, generate a random number (rc) between 0 and 1:\n",
        "#If rc <= Pc, perform crossover at Xc1 and Xc2.\n",
        "#If rc > Pc, no crossover. (O1 = P1 and O2 = P2)\n",
        "def Crossover(parent1 ,parent2):\n",
        "\n",
        "    rc = random.random()\n",
        "\n",
        "    if(rc <= PC):\n",
        "        XC1 = random.randint(1,len(parent1)-2)\n",
        "        XC2 = random.randint(XC1 + 1 ,len(parent1)-1)\n",
        "        index1 = XC1\n",
        "        index2 = XC2\n",
        "        temp = parent1[index1:(index2+1)]\n",
        "        parent1[index1:(index2+1)] = parent2[index1:(index2+1)]\n",
        "        parent2[index1:(index2+1)] = temp\n",
        "\n",
        "    return parent1,parent2\n"
      ]
    },
    {
      "cell_type": "code",
      "execution_count": 6,
      "metadata": {
        "id": "57zqZ79T0BmI"
      },
      "outputs": [],
      "source": [
        "#Step 5: Let’s perform mutation on the offspring:\n",
        "#Iterate over each bit in each offspring chromosome and:\n",
        "#Non_Uniform Floating Point Mutation\n",
        "#  \n",
        "def Mutate(child,currGeneration,maxGenerations):\n",
        "\n",
        "    y = deltaHigh = deltaLow = 0.0\n",
        "    for i in range(len(child)):\n",
        "        r = random.uniform(0,1)\n",
        "        if(r <= PM):\n",
        "            deltaLow = child[i] - minRange\n",
        "            deltaHigh = maxRange - child[i]\n",
        "            r = random.uniform(0,1)\n",
        "            if(r <= 0.5):\n",
        "                y=deltaLow\n",
        "            else:\n",
        "                y=deltaHigh\n",
        "            y = y * ( 1 - r**((1 - currGeneration/maxGenerations ) ** dependencyFactor ) )\n",
        "            if(r <= 0.5):\n",
        "                child[i] = round(child[i] - y,1)\n",
        "            else:\n",
        "                child[i] = round(child[i] + y,1)\n",
        "\n",
        "    return child"
      ]
    },
    {
      "cell_type": "code",
      "execution_count": 7,
      "metadata": {
        "id": "ble7_RtR0TL3"
      },
      "outputs": [],
      "source": [
        "#Step 6: Replace the current generation with the new offspring using any of the \n",
        "#replacement strategies explained earlier, go to step 2 and repeat the process\n",
        "#Elitisit replacement: Elitist Strategy (Elitism):• It is steady-state replacement, but keep best-so-far individuals\n",
        "#a number of individuals are selected to reproduce, and \n",
        "#the offspring replace their parents.\n",
        "#Drawbacks: all parents of the population become almost similar over many iterations.\n",
        "def Replacement(population,children,points):\n",
        "    \n",
        "    population.extend(children)\n",
        "    fitness = PopulationFitness(population,points)\n",
        "    myTuple=sorted(tuple(zip(fitness,population)))\n",
        "    myTuple= myTuple[2:]\n",
        "    fitness,population =  list(map(list, zip(*myTuple)))\n",
        "\n",
        "    return population\n"
      ]
    },
    {
      "cell_type": "code",
      "execution_count": 8,
      "metadata": {
        "id": "LQ3kP81w0UH2"
      },
      "outputs": [],
      "source": [
        "#Mating Function takes 2 parents and returns new population\n",
        "def Mating(population,fitnessValues,points,currGeneration,maxGenerations):\n",
        "\n",
        "        parent1 = TournamentSelection(population,fitnessValues)\n",
        "        parent2 = TournamentSelection(population,fitnessValues)\n",
        "\n",
        "        #while(parent1 == parent2):\n",
        "            #parent2 = RouletteWheelSelection(population,fitnessValues)\n",
        "        \n",
        "        parents = [parent1,parent2]  \n",
        "\n",
        "        child1,child2 = Crossover(parent1,parent2)\n",
        "        child1 = Mutate(child1,currGeneration,maxGenerations)\n",
        "        child2 = Mutate(child2,currGeneration,maxGenerations)\n",
        "\n",
        "        children = [child1,child2]\n",
        "\n",
        "        population = Replacement(population,children,points)\n",
        "\n",
        "        return population\n"
      ]
    },
    {
      "cell_type": "code",
      "execution_count": 9,
      "metadata": {
        "id": "b0VACd4n0WpO"
      },
      "outputs": [],
      "source": [
        "#Final Optimal Function Check at last generation iteration done to take best individual\n",
        "def CalcOptimal(population,fitnessValues):\n",
        "\n",
        "    maxFitness = max(fitnessValues)\n",
        "\n",
        "    index =0 \n",
        "\n",
        "    for i in range(len(population)):\n",
        "        if(fitnessValues[i] == maxFitness):\n",
        "            index = i \n",
        "            break\n",
        "\n",
        "    return population[index]\n"
      ]
    },
    {
      "cell_type": "code",
      "execution_count": 10,
      "metadata": {
        "id": "fxCOKpmY0Y82"
      },
      "outputs": [],
      "source": [
        "#PrintResult function\n",
        "#You must read the input from the given file and write the output to a file. The \n",
        "#output should consist of the dataset index, the coefficients of the polynomial \n",
        "#function, and its mean square error.\n",
        "\n",
        "def printResult(population,fitnessValues,points,TestCaseIndex):\n",
        "  \n",
        "    print(\"*************************************************************\")\n",
        "    print(\"*************************************************************\")\n",
        "    bestSolution = CalcOptimal(population,fitnessValues)\n",
        "\n",
        "    print(\"DataSet Case Index : \" + str(TestCaseIndex))\n",
        "\n",
        "    print(\"The coefficients of the polynomial function are : \" )\n",
        "    print(bestSolution)\n",
        "    print(\"The mean square error of this solution is : \" + str(int(1/IndividualFitness(bestSolution,points))))\n",
        "    print(\"*************************************************************\")\n",
        "    print(\"*************************************************************\")"
      ]
    },
    {
      "cell_type": "code",
      "execution_count": 14,
      "metadata": {
        "id": "iZNDwS-t0drN"
      },
      "outputs": [],
      "source": [
        "#Our FitCurve Function that calls other functions\n",
        "def FitCurve(points,degree,noPoints,TestCaseIndex):\n",
        "\n",
        "    populationSize = int(noPoints) * 20 + 500\n",
        "    maxGenerations = 100\n",
        "\n",
        "    population = InitializePopulation(populationSize,degree)\n",
        "    \n",
        "    for i in range(maxGenerations):\n",
        "\n",
        "        fitnessValues= PopulationFitness(population,points)\n",
        "        population = Mating(population,fitnessValues,points,i,maxGenerations)\n",
        "\n",
        "    printResult(population,fitnessValues,points,TestCaseIndex)\n"
      ]
    },
    {
      "cell_type": "code",
      "execution_count": 15,
      "metadata": {
        "id": "wVEdCpsoHdgU"
      },
      "outputs": [],
      "source": [
        "#Main function that handles files\n",
        "def Main(readFilePath, writeFilePath):\n",
        "\n",
        "    readFilePath = open(readFilePath) \n",
        "\n",
        "    line = readFilePath.readline()\n",
        "\n",
        "    noTestCases = int(line)\n",
        "\n",
        "    sys.stdout = open(writeFilePath, \"w\")\n",
        "\n",
        "    line = readFilePath.readline() \n",
        "\n",
        "    while(line):\n",
        "       \n",
        "       for TestCaseIndex in range(noTestCases):\n",
        "           line = line.split()\n",
        "           noPoints = int(line[0])\n",
        "           degree = int(line[1])\n",
        "           points = []\n",
        "           line = readFilePath.readline()\n",
        "           for  i in range(noPoints):\n",
        "              line = line.split()\n",
        "              point = []\n",
        "              point.append(float(line[0]))\n",
        "              point.append(float(line[1]))\n",
        "              points.append(point)\n",
        "              line = readFilePath.readline()\n",
        "           \n",
        "           FitCurve(points,degree+1,noPoints,TestCaseIndex)\n",
        "\n",
        "       line = readFilePath.readline() \n",
        "\n",
        "    readFilePath.close()\n",
        "    #sys.stdout.close()"
      ]
    },
    {
      "cell_type": "code",
      "execution_count": 16,
      "metadata": {
        "id": "m-80Uy8p0iOm"
      },
      "outputs": [],
      "source": [
        "#Let us Start our Execution here\n",
        "\n",
        "readFilePath = \"/content/sample_data/Curve_Fitting_Input.txt\"\n",
        "\n",
        "#You will have to create the file already in the path given\n",
        "writeFilePath = \"/content/sample_data/Curve_Fitting_Output.txt\"\n",
        "\n",
        "Main(readFilePath,writeFilePath)"
      ]
    }
  ],
  "metadata": {
    "accelerator": "GPU",
    "colab": {
      "provenance": []
    },
    "gpuClass": "standard",
    "kernelspec": {
      "display_name": "Python 3",
      "name": "python3"
    },
    "language_info": {
      "name": "python"
    }
  },
  "nbformat": 4,
  "nbformat_minor": 0
}